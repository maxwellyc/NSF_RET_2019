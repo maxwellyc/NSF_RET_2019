{
 "cells": [
  {
   "cell_type": "markdown",
   "metadata": {},
   "source": [
    "# Basic concepts and data types"
   ]
  },
  {
   "cell_type": "markdown",
   "metadata": {},
   "source": [
    "### 1. Variable Names"
   ]
  },
  {
   "cell_type": "markdown",
   "metadata": {},
   "source": [
    "Except for certain reserved names, you can practically use any alphabetic and/or numeric combinations, you can also use underscore to split up words, for better readability. Note that it's case sensitive in most coding languages, including Python.\n",
    "    \n",
    "Note that you cannot have any blank space in the characters. Thus we use usually use underscore to represent spaces.\n",
    "    \n",
    "You must always declare a variable before you call it and use it. Thinks of it as giving that varible a specific value before you are allowed to use it later, or more straight forward, always do \"x = \" something before you can later use 'x'. You can initialize it to 0 or None etc. if you don't want to give it a value at first."
   ]
  },
  {
   "cell_type": "code",
   "execution_count": 30,
   "metadata": {},
   "outputs": [
    {
     "name": "stdout",
     "output_type": "stream",
     "text": [
      "number of animals: 5\n"
     ]
    }
   ],
   "source": [
    "num_of_cat = 0\n",
    "num_of_dog = None\n",
    "\n",
    "num_of_cat = 2\n",
    "num_of_dog = 2 + 1\n",
    "\n",
    "# You can give a variable value using other variables as well, you don't have to use explicit numbers\n",
    "num_of_animal = num_of_cat + num_of_dog\n",
    "\n",
    "print (\"number of animals:\",num_of_animal)"
   ]
  },
  {
   "cell_type": "markdown",
   "metadata": {},
   "source": [
    "The reserved names will often be highlighted in your code editor. For example, 'sum', 'min', 'print', 'list' etc. These names are usually for built-in functions or types, thus you shouldn't (you can, but it's very bad coding practice, unless you're a pro and you really want to redefine that built-in name for good) use them to define your variable names. \n",
    "\n",
    "Notice the different coloring here as compared to self-defined variables."
   ]
  },
  {
   "cell_type": "code",
   "execution_count": 49,
   "metadata": {},
   "outputs": [
    {
     "name": "stdout",
     "output_type": "stream",
     "text": [
      "type of x: <class 'int'> , x = 2\n",
      "3\n"
     ]
    }
   ],
   "source": [
    "x = 2\n",
    "print (\"type of x:\", type(x), \", x =\",x)\n",
    "\n",
    "# Bad practice here:\n",
    "max = 3\n",
    "print (max)\n",
    "\n",
    "# If you now want to use max() to find maximum, it'll fail, because you redefined it as an integer here for good.\n",
    "# Everywhere else in this particular code, max() will forever become an integer and lose its original functionality"
   ]
  },
  {
   "cell_type": "markdown",
   "metadata": {},
   "source": [
    "### 2. Basic data types, convertion and operation between different data types"
   ]
  },
  {
   "cell_type": "markdown",
   "metadata": {},
   "source": [
    "The data types that you'll use most common are int (integer), float (decimal number), string. They are often interchangeble. Another data type you might use (non explicitly) is boolean, which is either a True or a False."
   ]
  },
  {
   "cell_type": "code",
   "execution_count": 107,
   "metadata": {},
   "outputs": [
    {
     "name": "stdout",
     "output_type": "stream",
     "text": [
      "type of x: <class 'int'> , x = 1\n",
      "type of y: <class 'str'> , y = 1\n",
      "type of z: <class 'float'> , z = 1.0\n"
     ]
    }
   ],
   "source": [
    "x = 1\n",
    "print (\"type of x:\", type(x), \", x =\",x)\n",
    "\n",
    "y = str(x)\n",
    "print (\"type of y:\", type(y), \", y =\",y)\n",
    "\n",
    "z = float(x)\n",
    "print (\"type of z:\", type(z), \", z =\",z)"
   ]
  },
  {
   "cell_type": "markdown",
   "metadata": {},
   "source": [
    "You can also create strings by using '' and \"\", which is equivalent. Initilizing an empty string can be useful when you want to build things from scratch, similar to when you want to initialize a counter to 0 when you want to sum, say 1~10.\n",
    "Note that addition between strings means to concatenate them, i.e. linking them into a longer string."
   ]
  },
  {
   "cell_type": "code",
   "execution_count": 111,
   "metadata": {},
   "outputs": [
    {
     "name": "stdout",
     "output_type": "stream",
     "text": [
      "True\n",
      "cat is better than dog \n"
     ]
    }
   ],
   "source": [
    "x = \"\"\n",
    "y = ''\n",
    "print (x == y)\n",
    "\n",
    "word_list = ['cat','is','better','than','dog']\n",
    "\n",
    "for word in word_list:\n",
    "    x += word\n",
    "    x += \" \"   # add a space between words\n",
    "\n",
    "print (x)\n"
   ]
  },
  {
   "cell_type": "markdown",
   "metadata": {},
   "source": [
    "Note that when you print a string that is a number, it'll look the same as if it's a number, but they are of different types as far as the computer is concerned, you cannot do '1'+1 and try to get 2 out of it, see error below:"
   ]
  },
  {
   "cell_type": "code",
   "execution_count": 53,
   "metadata": {},
   "outputs": [
    {
     "ename": "TypeError",
     "evalue": "unsupported operand type(s) for +: 'int' and 'str'",
     "output_type": "error",
     "traceback": [
      "\u001b[0;31m---------------------------------------------------------------------------\u001b[0m",
      "\u001b[0;31mTypeError\u001b[0m                                 Traceback (most recent call last)",
      "\u001b[0;32m<ipython-input-53-bcc8bb36d6a5>\u001b[0m in \u001b[0;36m<module>\u001b[0;34m()\u001b[0m\n\u001b[1;32m      1\u001b[0m \u001b[0mx\u001b[0m \u001b[0;34m=\u001b[0m \u001b[0;36m1\u001b[0m\u001b[0;34m\u001b[0m\u001b[0;34m\u001b[0m\u001b[0m\n\u001b[1;32m      2\u001b[0m \u001b[0my\u001b[0m \u001b[0;34m=\u001b[0m \u001b[0;34m'1'\u001b[0m\u001b[0;34m\u001b[0m\u001b[0;34m\u001b[0m\u001b[0m\n\u001b[0;32m----> 3\u001b[0;31m \u001b[0mz\u001b[0m \u001b[0;34m=\u001b[0m \u001b[0mx\u001b[0m\u001b[0;34m+\u001b[0m\u001b[0my\u001b[0m\u001b[0;34m\u001b[0m\u001b[0;34m\u001b[0m\u001b[0m\n\u001b[0m",
      "\u001b[0;31mTypeError\u001b[0m: unsupported operand type(s) for +: 'int' and 'str'"
     ]
    }
   ],
   "source": [
    "x = 1\n",
    "y = '1'\n",
    "z = x+y"
   ]
  },
  {
   "cell_type": "markdown",
   "metadata": {},
   "source": [
    "You can see the TypeError above, the addition between 'int' and 'str' is forbidden.\n",
    "\n",
    "If you want to 'add' them, you'll need to convert them into data types that can operate together, you can either:\n",
    "1. convert int to string, then add\n",
    "2. convert string to number, then add\n",
    "\n",
    "Notice the difference in the code output below.\n",
    "1. Converting string into a number and perform addition, is the addition in mathematical sense\n",
    "2. Converting number into string, and perform addition, is called a string concatenation\n",
    "\n",
    "Note you can only convert pure numerical string into numbers, you cannot convert 'icecream' directly into a number, although there are ways, it's beyond the scope you'll be working with."
   ]
  },
  {
   "cell_type": "code",
   "execution_count": 70,
   "metadata": {},
   "outputs": [
    {
     "name": "stdout",
     "output_type": "stream",
     "text": [
      "A =  2\n",
      "type of A: <class 'int'>\n",
      "A =  2.0\n",
      "type of A: <class 'float'>\n",
      "A =  11\n",
      "type of A: <class 'str'>\n",
      "A =  I have 11 cats.\n",
      "10\n"
     ]
    }
   ],
   "source": [
    "x = 1     # x is an int\n",
    "y = '1'   # y is a string\n",
    "\n",
    "A = x + int(y)\n",
    "print ('A = ', A)\n",
    "print ('type of A:', type(A))\n",
    "\n",
    "# Note that the result of int + float automatically becomes a float,\n",
    "# you can tell from the output having a decimal point.\n",
    "\n",
    "A = x + float(y)\n",
    "print ('A = ', A)\n",
    "print ('type of A:', type(A))\n",
    "\n",
    "# Also note that Python execute your code from the first line to the last line, so even when you defined\n",
    "# the variable 'A' above as an number '2', you can define it again as a string, and still not \n",
    "# messing up the previous print result at line 5, because up till line 5, A is still an integer 2, so when \n",
    "# the print executes at line 5, it doesn't know what's happening at line 6 and below.\n",
    "\n",
    "A = str(x) + y\n",
    "print ('A = ', A)\n",
    "print ('type of A:', type(A))\n",
    "\n",
    "# When you pass a value into a variable using the equal sign \"=\", Python (as do most other languages) first stores\n",
    "# the right hand side into a temporary buffer, and then pass that buffer's value to the left hand side. \n",
    "# This is illustrated in lines 31~32.\n",
    "A = \"I have \" + A + \" cats.\"\n",
    "print ('A = ', A)\n",
    "\n",
    "A = str(x) + y # Reset A back into \"11\", because after line 27, A is \"I have 11 cats.\"\n",
    "buffer = \"I have \" + A + \" cats.\"\n",
    "A = buffer\n",
    "\n",
    "# The above buffering mechanism is the reason why you can do things like:\n",
    "sums = 0  # note that I named my variable sums instead of sum, to avoid using the reserved name sum()\n",
    "for i in range(5):\n",
    "    sums = sums + i   # Or equivalently: sum += i\n",
    "print (sums)\n",
    "\n",
    "# Because at every new loop instance, the right hand side's \"sums\" equals to the result from the \n",
    "# previous loop instance, so basically what it's doing here is adding i into variable \"sums\"\n",
    "# Note that in coding, things usually start from 0, range(5) gives you [0,1,2,3,4], it doesn't include \n",
    "# the number 5, this can be easy to forget when you're not used to it.\n"
   ]
  },
  {
   "cell_type": "markdown",
   "metadata": {},
   "source": [
    "There's an exception where you can multiply string and int (but not a float), it's a shorthand for repeating the string multiple times."
   ]
  },
  {
   "cell_type": "code",
   "execution_count": 162,
   "metadata": {},
   "outputs": [
    {
     "name": "stdout",
     "output_type": "stream",
     "text": [
      "CatCatCatCatCat\n"
     ]
    }
   ],
   "source": [
    "z = 'Cat'\n",
    "print (z*5)"
   ]
  },
  {
   "cell_type": "markdown",
   "metadata": {},
   "source": [
    "There's also a tuple data type, it's like an array, but its immutable, meaning you can't change the element on a given index once you created it. You probably won't be using tuples much, but it can be useful when you want a hashable 'list'. More about hashing in later content."
   ]
  },
  {
   "cell_type": "code",
   "execution_count": 171,
   "metadata": {},
   "outputs": [
    {
     "name": "stdout",
     "output_type": "stream",
     "text": [
      "(1, 2, 3)\n",
      "(5, 6, 7)\n",
      "[1, 20, 3]\n",
      "(1, 20, 3)\n",
      "20\n"
     ]
    }
   ],
   "source": [
    "num = [1,2,3]\n",
    "tup1 = tuple(num)\n",
    "tup2 = (5,6,7)\n",
    "\n",
    "print (tup1)\n",
    "print (tup2)\n",
    "\n",
    "num[1] = 20 \n",
    "\n",
    "print (num)\n",
    "\n",
    "# Now, you cannot do tup1[1] = 20 because tuple is immutable, you can try this and it'll give you an error,\n",
    "# you can re-define tup1 in case you need to modify it. \n",
    "\n",
    "# You can access tuple elements using indexing same as you would with a list.\n",
    "\n",
    "# You also cannot use pop() on a tuple. A tuple is meant to be stable.\n",
    "# Note that string is also immutable in the same sense as tuple.\n",
    "\n",
    "tup1 = tuple(num)\n",
    "\n",
    "print (tup1)\n",
    "\n",
    "print (tup1[1])\n",
    "\n"
   ]
  },
  {
   "cell_type": "markdown",
   "metadata": {},
   "source": [
    "### ? Exercise:\n",
    "Using a single for loop and the 2 lists given, create the below three strings and print them out, don't forget the spaces. \n",
    "1. \"3 cow 2 sheep 6 duck \"\n",
    "\n",
    "2. \"9 cow 4 sheep 36 duck \"\n",
    "\n",
    "3. \"3333 cow 2222 sheep 6666 duck \", could you utilize string and integer multiplication in this case?\n",
    "\n",
    "Access list elements via index, eg. x[0] = 3, y[1] = 'sheeps'"
   ]
  },
  {
   "cell_type": "code",
   "execution_count": null,
   "metadata": {},
   "outputs": [],
   "source": [
    "x = [3,2,6]\n",
    "y = ['cows','sheeps','ducks']\n",
    "\n",
    "# Your code here:\n"
   ]
  },
  {
   "cell_type": "markdown",
   "metadata": {},
   "source": [
    "### 3. Basic data structures"
   ]
  },
  {
   "cell_type": "markdown",
   "metadata": {},
   "source": [
    "List (Python's term for array)\n",
    "\n",
    "Set (Python's term for hash list)\n",
    "\n",
    "Dictionary (Python's term for hash table)\n",
    "\n",
    "You can convert set, list between each other, just like you can convert int into float."
   ]
  },
  {
   "cell_type": "markdown",
   "metadata": {},
   "source": [
    "#### List is the most fundamental data structure (storage) you'll use:"
   ]
  },
  {
   "cell_type": "code",
   "execution_count": 161,
   "metadata": {},
   "outputs": [
    {
     "name": "stdout",
     "output_type": "stream",
     "text": [
      "1.  [1, 2, 3]\n",
      "2.  [1, 2, 3, 4, 5, 6, 7, 8, 9, 10]\n",
      "3.  [1, 2, 3, 4, 5, 6, 7, 8, 9, 10, 11, 12, 13]\n",
      "4.  13\n",
      "5.  [1, 2, 3, 4, 5, 6, 7, 8, 9, 10, 11, 12]\n",
      "6.  1 6\n",
      "7.  12\n",
      "8.  4\n"
     ]
    }
   ],
   "source": [
    "# Initialization, these two methods are equivalent\n",
    "x = list()\n",
    "x = []\n",
    "\n",
    "# Method append(), meaning add values to the tail:\n",
    "# To use methods, use a 'dot' after the variable name, and add the method's name (with the parenthesis)\n",
    "# This way of calling methods is similar to when you were using numpy.arange()\n",
    "x.append(1)\n",
    "x.append(2)\n",
    "x.append(3)\n",
    "\n",
    "print (\"1. \",x)\n",
    "\n",
    "for i in range(4,11):\n",
    "    x.append(i)\n",
    "\n",
    "print (\"2. \",x)\n",
    "\n",
    "# Method extend(), this is similar to append(), but can take a iterable as arguement\n",
    "x.extend({11,12,13})\n",
    "\n",
    "print (\"3. \",x)\n",
    "\n",
    "# Method pop(), removes and returns the last element of the array\n",
    "print (\"4. \",x.pop())\n",
    "\n",
    "# Now you not only made x.pop() output its last element, which WAS '13', it also removed this element.\n",
    "print (\"5. \",x)\n",
    "\n",
    "# You can access elements by using its index, note that Python index counts from 0.\n",
    "# So x[0] is the first element of list x, x[5] is the 6th element.\n",
    "print (\"6. \",x[0], x[5])\n",
    "\n",
    "# On a side note, len() can be used to check the length (size) of an iterable, \n",
    "# such as list, string, set, dictionary, tuple.\n",
    "# Note that len() is a built-in function, it's not a method exlusive to list.\n",
    "print (\"7. \", len(x))\n",
    "print (\"8. \", len(\"Cats\"))"
   ]
  },
  {
   "cell_type": "markdown",
   "metadata": {},
   "source": [
    "There're many other neat tricks for lists that you probably won't use here:\n",
    "https://www.techbeamers.com/python-list/\n",
    "\n",
    "If you're interested you can read this in the future, but for the moment don't confuse yourself with extra information."
   ]
  },
  {
   "cell_type": "markdown",
   "metadata": {},
   "source": [
    "#### Hash\n",
    "In python, only hashable objects can be used as elements for a set, or the keys of a dictionary. You can google what hash function and hashing is if you're interested, hashing is also the foundation of cryptocurrency, which relies on super costly hashing to guarantee its security.\n",
    "\n",
    "As far as you're concerned right now, common hashable data types / structures in Python are: string, int, float, tuple. These are the only things you can use as the key for a dictionary. You cannot use list, set, dictionary as keys for dictionary."
   ]
  },
  {
   "cell_type": "markdown",
   "metadata": {},
   "source": [
    "#### Set\n",
    "There are two main difference between list and set:\n",
    "\n",
    "1. Set doesn't support indexing, for eg. x = set(), you cannot access x[0] anymore. Because of this property, elements in set are unordered, you can still use method pop() to access elements in set, but the outcome is usually random.\n",
    "\n",
    "2. Set doesn't have repeated elements, say a set is x = {1,2,3}, adding another 1 into x won't change it at all.\n",
    "\n",
    "Although it seems inconvinient to use set, since its elements are unordered, the advantage is that checking if an element exist in it (inquiry) is super fast, it can be useful to use set when your code performs a lot of inquiries. If a set contains n elements, compared to a list of the same n elements, it'll be n times faster to ask if something is in set compared to asking the same question with a list, and in real life computation, n can be huge. This property is achieved by hashing."
   ]
  },
  {
   "cell_type": "markdown",
   "metadata": {},
   "source": [
    "### ? Exercise:\n",
    "1. Create a list A that contains all the positive even number <= 50.\n",
    "2. Create another list B that contains all the multiples of 7 <= 50.\n",
    "3. How many elements are in each list? Can you do this without using len()?\n",
    "4. Create a new list C that is the combination of all the elements in A and B. How many elements are there in list C?\n",
    "5. Change list C into a set by using the build-in set() function, you can name the new set D, how many elements are there in set D? \n",
    "6. Print out list C and set D, what are the changes?\n",
    "\n",
    "Write your code in the cell below to help you answer these questions."
   ]
  },
  {
   "cell_type": "code",
   "execution_count": null,
   "metadata": {},
   "outputs": [],
   "source": [
    "# Your code here:\n",
    "\n",
    "\n"
   ]
  },
  {
   "cell_type": "markdown",
   "metadata": {},
   "source": [
    "#### Dictionary"
   ]
  },
  {
   "cell_type": "code",
   "execution_count": 141,
   "metadata": {},
   "outputs": [],
   "source": [
    "x = {}   # Initialize empty dictionary\n",
    "x['cat'] = 1\n",
    "x[1] = 2.2\n",
    "x['1'] = 'cat'\n",
    "x[(1,2)] = 'sheep'\n",
    "x[2.1234] = [1,2,3]"
   ]
  },
  {
   "cell_type": "markdown",
   "metadata": {},
   "source": [
    "Notice that you can use string, int, float, tuple as the keys, for the values, you can put almost anything you want in there, it can be numbers, string, even lists and dictionaries and more complex things. You can even create a multi-layer dictionary:"
   ]
  },
  {
   "cell_type": "code",
   "execution_count": 146,
   "metadata": {},
   "outputs": [
    {
     "name": "stdout",
     "output_type": "stream",
     "text": [
      "{1: {2: {3: 'iron man'}}}\n"
     ]
    }
   ],
   "source": [
    "x = {}\n",
    "x[1] = {}\n",
    "x[1][2] = {}\n",
    "x[1][2][3] = 'iron man'\n",
    "print (x)"
   ]
  },
  {
   "cell_type": "markdown",
   "metadata": {},
   "source": [
    "### ? Exercise:\n",
    "1. What are the keys and corresponding values of the above dictionary? You can play with the code to answer this or write your own.\n",
    "2. Create a dictionary named 'letter_count', for every word in the list 'words_list', create a dictionary entry with the word itself as key, and its letter count as the corresponding value, for eg. you should have an entry like 'proton':6\n",
    "3. Create another dictionary named 'inverse_letter_count', this time use the letter count as the key, and the word itself as the value.\n",
    "4. Print these two dictionaries you just created."
   ]
  },
  {
   "cell_type": "code",
   "execution_count": 172,
   "metadata": {},
   "outputs": [],
   "source": [
    "words_list = ['proton','neutron','dripline','Schrodinger']\n",
    "\n",
    "# Your code here:\n"
   ]
  },
  {
   "cell_type": "markdown",
   "metadata": {},
   "source": [
    "### 4. Common Operators"
   ]
  },
  {
   "cell_type": "markdown",
   "metadata": {},
   "source": [
    "You can read all about Python operators here: https://www.w3schools.com/python/python_operators.asp\n",
    "\n",
    "#### The common arithmetic ones are \n",
    "+, - , *, /, %, //\n",
    "\n",
    "Double slash means integer division, eg. 5//2 = 2, it outputs the integer directly smaller than your result.\n",
    "\n",
    "x%y is x mod(ulus) y, which is the \"distance\" between the largest multiple of y that's smaller than x, 9%5 = 4 because 9 = 5*1+4, 13%5 = 3 because 13 = 5*2 + 3\n",
    "\n",
    "Note that x = (x//y)*y + x%y"
   ]
  },
  {
   "cell_type": "code",
   "execution_count": 89,
   "metadata": {},
   "outputs": [
    {
     "name": "stdout",
     "output_type": "stream",
     "text": [
      "normal division: 2.857142857142857\n",
      "integer division: 2\n",
      "modulus: 6\n",
      "20\n"
     ]
    }
   ],
   "source": [
    "x = 20\n",
    "y = 7\n",
    "\n",
    "print (\"normal division:\",x/y)\n",
    "print (\"integer division:\",x//y)\n",
    "print (\"modulus:\",x%y)\n",
    "print ( (x//y)*y + x%y )\n"
   ]
  },
  {
   "cell_type": "markdown",
   "metadata": {},
   "source": [
    "#### The common logical ones are\n",
    "not, and, or, in\n",
    "\n",
    "The first 3 is used between boolean:"
   ]
  },
  {
   "cell_type": "code",
   "execution_count": 93,
   "metadata": {},
   "outputs": [
    {
     "name": "stdout",
     "output_type": "stream",
     "text": [
      "False\n",
      "True\n",
      "False\n",
      "True\n"
     ]
    }
   ],
   "source": [
    "x = True\n",
    "y = False\n",
    "print (not x)\n",
    "\n",
    "print (x or y)\n",
    "\n",
    "print (x and y)\n",
    "\n",
    "print (x and not y)"
   ]
  },
  {
   "cell_type": "markdown",
   "metadata": {},
   "source": [
    "'in' is commonly used to check (returns a boolean) or access items in an iterable data structure (when used together with a for loop), note that string is also an iterable, in the sense that you can think of it as a list."
   ]
  },
  {
   "cell_type": "code",
   "execution_count": 156,
   "metadata": {},
   "outputs": [
    {
     "name": "stdout",
     "output_type": "stream",
     "text": [
      "cat is in the sentence: True\n",
      "mice is in the sentence: False\n",
      "1 is in the list nums: True\n",
      "15 is in the list nums: False\n"
     ]
    }
   ],
   "source": [
    "# Check if something is 'in' an iterable\n",
    "sentence = \"A cat is not a dog. \"\n",
    "print (\"cat is in the sentence:\",\"cat\" in sentence)   # returns True because The string \"cat\" is in sentence \n",
    "print (\"mice is in the sentence:\",\"mice\" in sentence)  # returns False\n",
    "\n",
    "nums = [1,2,3,4,5]\n",
    "print (\"1 is in the list nums:\",1 in nums)   \n",
    "print (\"15 is in the list nums:\",15 in nums)"
   ]
  },
  {
   "cell_type": "code",
   "execution_count": 178,
   "metadata": {},
   "outputs": [
    {
     "name": "stdout",
     "output_type": "stream",
     "text": [
      "A\n",
      " \n",
      "c\n",
      "a\n",
      "t\n",
      " \n",
      "i\n",
      "s\n",
      " \n",
      "n\n",
      "o\n",
      "t\n",
      " \n",
      "a\n",
      " \n",
      "d\n",
      "o\n",
      "g\n",
      ".\n",
      " \n",
      "1\n",
      "2\n",
      "3\n",
      "4\n",
      "5\n"
     ]
    }
   ],
   "source": [
    "# Accessing items in iterables\n",
    "for i in sentence:\n",
    "    print (i)\n",
    "\n",
    "for i in nums:\n",
    "    print (i)"
   ]
  },
  {
   "cell_type": "code",
   "execution_count": 152,
   "metadata": {},
   "outputs": [
    {
     "name": "stdout",
     "output_type": "stream",
     "text": [
      "mice\n",
      "chicken\n",
      "human\n",
      "cat\n",
      "mice\n",
      "chicken\n",
      "human\n",
      "cat\n",
      "2\n",
      "4\n",
      "5\n",
      "1\n"
     ]
    }
   ],
   "source": [
    "animals = {'mice': 2, 'chicken':4, 'human': 5, 'cat':1}\n",
    "# When doing 'in' on dictionary, you're actually accessing dictionary's set of keys.\n",
    "# The set of keys is {'cat', 'mice', 'chicken','human'}.\n",
    "# The set of values are {1,2,4,5}\n",
    "\n",
    "for i in animals:\n",
    "    print (i)\n",
    "\n",
    "# The above is equivalent to:\n",
    "for i in animals.keys():\n",
    "    print (i)\n",
    "    \n",
    "for i in animals.values():\n",
    "    print (i)"
   ]
  },
  {
   "cell_type": "markdown",
   "metadata": {},
   "source": [
    "### ? Exercise:\n",
    "Z is a list of proton numbers, N and R are lists of corresponding neutron numbers and radius in unit fm.\n",
    "\n",
    "By corresponding I mean for nucleus with proton number Z[0] and neutron number N[0] has radius R[0].\n",
    "\n",
    "Create a dictionary, you can do it any way you want, you need to achieve the following goal:\n",
    "1. Given the information of proton number Z and neutron number N, use the dictionary to output the corresponding radius.\n",
    "2. Print out all key: value pairs of your dictionary using for loops.\n",
    "\n",
    "Recall which data types can be used as the keys here?"
   ]
  },
  {
   "cell_type": "code",
   "execution_count": null,
   "metadata": {},
   "outputs": [],
   "source": [
    "Z = [20,23,28,30]\n",
    "N = [30,32,35,45]\n",
    "R = [4.37, 4.5, 4.71, 4.99]\n",
    "\n",
    "radius_dict = {}\n",
    "# Your code here:\n",
    "\n",
    "\n",
    "# Goal, print out the radius for Z = 23, N = 35\n",
    "print (radius_dict[] )    #<-- you need to fill in the key depending on how you defined it\n",
    "\n",
    "# \n"
   ]
  },
  {
   "cell_type": "markdown",
   "metadata": {},
   "source": [
    "# For loops\n",
    "### 1. Basics"
   ]
  },
  {
   "cell_type": "markdown",
   "metadata": {},
   "source": [
    "The basic structure of a for loop statement is:\n",
    "\n",
    "for  #variable#   in   #iterable#:\n",
    "\n",
    "    block of code\n",
    "\n",
    "The iterable can be:\n",
    "1. String, which will be treated like a list, every iteration will access one character in the string,\n",
    "2. List, tuple, set, I believe you're familiar with list at this point, set and tuple is almost identical here,\n",
    "3. Dictionary, but here you're actually using dictionary.keys() as iterable, Python automatically interpret a dictionary at the place for the iterable means that the user wants to iterate through the set of keys. Be careful here that the set of keys doesn't have any ordering to it, it can be random, if you don't mind the ordering, it doesn't make a difference,\n",
    "4. Specialized iterable such as the output of range(), numpy.arange(), they are list-like objects, but they are not exacly lists, however you can convert them into list by applying the list() function on them. In the context of being used as the for loop's iterable, you can imagine it as a list.\n",
    "\n",
    "You can name the variables anything you want, you don't have to use i, it's just a dummy index people are used to.\n",
    "\n",
    "The variable will remain the same (unless you explicitly change its value within the indented block of code, but this is considered a bad practice) through out the block of code, the block of code can be anything, it can be a whole new code containing its own for loops, which can again contain another for loop, which we call nested for loops. \n",
    "\n",
    "The block is recognized using indentations in Python, as long as the lines have the same indentation, they belong to the block.\n",
    "\n",
    "Don't forget the colon at the end of the for statement.\n",
    "\n"
   ]
  },
  {
   "cell_type": "code",
   "execution_count": 210,
   "metadata": {},
   "outputs": [
    {
     "name": "stdout",
     "output_type": "stream",
     "text": [
      "1.  It's not raining.\n",
      "2.  [0, 1, 2, 3, 4]\n",
      "3.  10\n",
      "4.  0\n",
      "\n",
      "5.\n",
      "0\n",
      "1\n",
      "2\n",
      "3\n",
      "4\n",
      "\n",
      "6.\n",
      "variable = 1 is being used as key, corresponding value: car\n",
      "variable = Audi is being used as key, corresponding value: Germany\n",
      "variable = cat is being used as key, corresponding value: 2.5\n",
      "variable = 132.123 is being used as key, corresponding value: random number\n",
      "variable = list is being used as key, corresponding value: [1, 3, 5, 7]\n"
     ]
    }
   ],
   "source": [
    "# 1. String as iterable\n",
    "\n",
    "sent = \"It's raining.\"\n",
    "# Usually you can define a string using either a pair of \"\", or ''. Only in the case where you need to actually \n",
    "# have a ' in your string, should you use \"\" for the definition.\n",
    "\n",
    "rev = ''\n",
    "for char in sent:\n",
    "    if char == \" \": \n",
    "        rev += ' not'\n",
    "    rev += char\n",
    "    \n",
    "print (\"1. \",rev)\n",
    "\n",
    "# 2. List as iterable\n",
    "nums = list(range(5))\n",
    "\n",
    "print (\"2. \",nums)\n",
    "\n",
    "# You can even use a single underscore to represent the variable\n",
    "sums = 0\n",
    "for _ in nums:\n",
    "    sums += _\n",
    "    \n",
    "print (\"3. \",sums)\n",
    "\n",
    "sums = 0\n",
    "# You can change the variable instance to other values within the for loop, but it's not recommended\n",
    "# as you could forget that you changed it at the beginning, if you have a big block of code.\n",
    "for i in nums:\n",
    "    i = 0\n",
    "    sums += i\n",
    "\n",
    "print (\"4. \",sums)\n",
    "\n",
    "print (\"\\n5.\")\n",
    "# 3. Set as iterable\n",
    "nums_set = set(nums)\n",
    "\n",
    "for dogs in nums_set:\n",
    "    print (dogs)\n",
    "\n",
    "print (\"\\n6.\")\n",
    "# 4. Dictionary (by default its keys()) as iterable:\n",
    "d = {1:'car', 'Audi': 'Germany', 'cat': 2.5, 132.123: 'random number', 'list': [1,3,5,7] }\n",
    "\n",
    "for k in d:\n",
    "    print (\"variable =\",k, \"is being used as key, corresponding value:\", d[k])"
   ]
  },
  {
   "cell_type": "markdown",
   "metadata": {},
   "source": [
    "### 2. Nested for loops\n",
    "Best illustrated with a few examples:"
   ]
  },
  {
   "cell_type": "code",
   "execution_count": 228,
   "metadata": {},
   "outputs": [
    {
     "name": "stdout",
     "output_type": "stream",
     "text": [
      "Starting the outer loop of i = 0 \n",
      "\n",
      "\tStarting the inner loop of j = cats\n",
      "\t\tDoing something useful here:  0 cats\n",
      "\tEnding the inner loop of j = cats \n",
      "\n",
      "\tStarting the inner loop of j = dogs\n",
      "\t\tDoing something useful here:  0 dogs\n",
      "\tEnding the inner loop of j = dogs \n",
      "\n",
      "Ending the outer loop of i = 0 \n",
      "****\n",
      "\n",
      "Starting the outer loop of i = 1 \n",
      "\n",
      "\tStarting the inner loop of j = cats\n",
      "\t\tDoing something useful here:  1 cats\n",
      "\tEnding the inner loop of j = cats \n",
      "\n",
      "\tStarting the inner loop of j = dogs\n",
      "\t\tDoing something useful here:  1 dogs\n",
      "\tEnding the inner loop of j = dogs \n",
      "\n",
      "Ending the outer loop of i = 1 \n",
      "****\n",
      "\n",
      "Starting the outer loop of i = 2 \n",
      "\n",
      "\tStarting the inner loop of j = cats\n",
      "\t\tDoing something useful here:  2 cats\n",
      "\tEnding the inner loop of j = cats \n",
      "\n",
      "\tStarting the inner loop of j = dogs\n",
      "\t\tDoing something useful here:  2 dogs\n",
      "\tEnding the inner loop of j = dogs \n",
      "\n",
      "Ending the outer loop of i = 2 \n",
      "****\n",
      "\n"
     ]
    }
   ],
   "source": [
    "for i in range(3):\n",
    "    print (\"Starting the outer loop of i =\",i,'\\n')\n",
    "    for j in ['cats','dogs']:\n",
    "        print (\"\\tStarting the inner loop of j =\",j)\n",
    "        print (\"\\t\\tDoing something useful here: \",i,j)\n",
    "        print (\"\\tEnding the inner loop of j =\",j,'\\n')\n",
    "    print (\"Ending the outer loop of i =\",i,'\\n****\\n')"
   ]
  },
  {
   "cell_type": "code",
   "execution_count": 229,
   "metadata": {},
   "outputs": [
    {
     "name": "stdout",
     "output_type": "stream",
     "text": [
      "1 1 1\n",
      "1 1 2\n",
      "1 2 1\n",
      "1 2 2\n",
      "2 1 1\n",
      "2 1 2\n",
      "2 2 1\n",
      "2 2 2\n"
     ]
    }
   ],
   "source": [
    "for i in range(1,3):\n",
    "    for j in range(1,3):\n",
    "        for k in range(1,3):\n",
    "            print (i,j,k)"
   ]
  },
  {
   "cell_type": "markdown",
   "metadata": {},
   "source": [
    "### ? Exercise\n",
    "1. For all positive multiples of 3 smaller than 50, and all positive multiples of 7 smaller than 50, create a list of tuples for all possible pairs. For eg., your list should contain (3,7), (3,14), (3,21) ... (6,7), (6,14) ...\n",
    "\n",
    "2. Do this again, now for all positive multiples of 2 smaller than 50, all positive multiples of 7 smaller than 50. For eg., your list should contain (2,7), (2,14), (2,21) ... (4,7), (4,14) ... (6,7), (6,14) ...\n",
    "\n",
    "3. Create a new list that's a combination of the above 2 lists, but make sure there's no duplicates, for eg. you'll have (6,7) in both lists from list1 and list2, make sure this pair appears in the final list only once.\n"
   ]
  },
  {
   "cell_type": "code",
   "execution_count": null,
   "metadata": {},
   "outputs": [],
   "source": [
    "# Your code here:\n",
    "\n"
   ]
  },
  {
   "cell_type": "markdown",
   "metadata": {},
   "source": [
    "# Functions\n",
    "### Definition"
   ]
  },
  {
   "cell_type": "markdown",
   "metadata": {},
   "source": [
    "def  function_name(#input variables#):\n",
    "    \n",
    "    block of code\n",
    "    \n",
    "    return stuffs (or don't return anything)\n"
   ]
  },
  {
   "cell_type": "markdown",
   "metadata": {},
   "source": [
    "Things to know:\n",
    "1. Make sure you function name doesn't conflict with your variables\n",
    "2. You can have as many different inputs as you want,\n",
    "3. You can input almost any data type / structure you want, can be a string, int, float, list, dictionary etc.\n",
    "4. As a good habit, make sure whatever variables that you want to use that is not defined inside the function, make it a input, I'll illustrate this later.\n",
    "5. You don't have to return, it's optional, for example you can choose to modify the input and return nothing."
   ]
  },
  {
   "cell_type": "code",
   "execution_count": 256,
   "metadata": {},
   "outputs": [
    {
     "name": "stdout",
     "output_type": "stream",
     "text": [
      "1.  14\n",
      "2. a= [2, 3] \tb= 20\n",
      "3. a= [22, 23] \tb= 20\n",
      "\n",
      "4.\n",
      "0\n",
      "4\n",
      "\n",
      "5.\n",
      "4\n",
      "4\n",
      "6.  1\n",
      "\n",
      "7. \n",
      "0\n",
      "4\n"
     ]
    }
   ],
   "source": [
    "# Basic type with return\n",
    "\n",
    "def sum_with_weights(inp1,inp2,inp3):\n",
    "      return inp1 + 2* inp2 + 3* inp3\n",
    "    \n",
    "# x = 1 + 2* 2 + 3* 3 = 14\n",
    "x = sum_with_weights(1,2,3)\n",
    "\n",
    "print (\"1. \",x)\n",
    "\n",
    "# Without return, this is used for certain data types only, to perform what's called an in-place modify,\n",
    "# you probably won't be using this but it's useful to know.\n",
    "\n",
    "def array_addition(a,b):\n",
    "    x = a\n",
    "    for i in range(len(x)):\n",
    "        x[i] += b\n",
    "    # no return needed\n",
    "    \n",
    "a = [2,3]\n",
    "b = 20\n",
    "print (\"2. a=\",a,\"\\tb=\",b)\n",
    "exchange(a,b)\n",
    "print (\"3. a=\",a,\"\\tb=\",b)\n",
    "\n",
    "\n",
    "# Here there's a variable i which you didn't define inside the function, and you also didn't make it an input\n",
    "# It might still work sometimes, but this is bad practice.\n",
    "def square(x):\n",
    "    return i* x**2\n",
    "\n",
    "print (\"\\n4.\")\n",
    "for i in range(2):\n",
    "    print (square(2))\n",
    "    \n",
    "# Notice that it can still print 0* 2**2 = 0 and then 1* 2**2 = 4, this can work because you have a variable i\n",
    "# in the for loop. \n",
    "\n",
    "print (\"\\n5.\")\n",
    "# However if you change i into j, you'd fail, because now i is locked to i = 1 from the previous code \n",
    "# in the for loop at line 33, the last value given to i is i = 1, so now i is 1 forever until you redefine it\n",
    "# Now when you try to print 0 and 4, you'll actually get 4, 4.\n",
    "for j in range(2):\n",
    "    print (square(2))\n",
    "\n",
    "# To avoid this, simply make i an input in the function definition, and provide that input everytime \n",
    "# you use the function\n",
    "def square2(i,x):\n",
    "    return i* x**2\n",
    "\n",
    "# You can see i is still stuck with i = 1 from line 33, we didn't give it a new value\n",
    "print (\"6. \",i)\n",
    "\n",
    "# But when you repeat lines 43~44 with the new function square2(), the first variable passed into square2() will be \n",
    "# the value of square2()'s i, so even if I pass square2(monkey,2), as far as square2() is concerned, i = monkey, so\n",
    "# i's value change with monkey, which is 0, then 1 due to the for loop.\n",
    "print (\"\\n7. \")\n",
    "for monkey in range(2):\n",
    "    print (square2(monkey,2))\n",
    "    \n",
    "# Now we arrive at the same result as the original lines 33~34, which we got lucky because we used a i in\n",
    "# the for loop, and square() shared the variable i\n"
   ]
  },
  {
   "cell_type": "markdown",
   "metadata": {},
   "source": [
    "### ? Exercise\n",
    "1. Create a function to calculate the distance between two points with coordinates of the form (x,y). Print the distance.\n",
    "\n",
    "2. Create a function that finds the minimum of a list. Do not use the built-in min() function. Thinks about how you would scan through a long list in real life (not with code) and find the minimum? What would you keep track of?\n",
    "\n",
    "3. Given a list 'points', create a function to find the point that's closest to the point at (13,23). Utilize the functions you just created above. This new function should take the list 'points' as input.\n",
    "\n",
    "4. Create a function to find the average distance of the points in the list 'points' to the origin (0,0).\n",
    "\n",
    "In the above tasks, you'll probably be using functions inside of functions, just like nested for loops."
   ]
  },
  {
   "cell_type": "code",
   "execution_count": 257,
   "metadata": {},
   "outputs": [],
   "source": [
    "# Task 1\n",
    "p1 = (-23,39.6)\n",
    "p2 = (31.7,58.2)\n",
    "# Your code here:\n",
    "\n",
    "# Task 2: create your own min() function, don't name it min(), because that name is reserved\n",
    "# Your code here:\n",
    "\n",
    "# Task 3: finding min distance in a list\n",
    "points = [(1,2),(2,33),(-14,5),(22,-3),(1.2,56),(10.2,14.5),(-13,81),(50,55),(23,11),(0,0)]\n",
    "target = (13,23)\n",
    "# Your code here:\n",
    "\n",
    "# Task 4: finding average\n",
    "# Your code here:\n"
   ]
  },
  {
   "cell_type": "code",
   "execution_count": null,
   "metadata": {},
   "outputs": [],
   "source": []
  }
 ],
 "metadata": {
  "kernelspec": {
   "display_name": "Python 3",
   "language": "python",
   "name": "python3"
  },
  "language_info": {
   "codemirror_mode": {
    "name": "ipython",
    "version": 3
   },
   "file_extension": ".py",
   "mimetype": "text/x-python",
   "name": "python",
   "nbconvert_exporter": "python",
   "pygments_lexer": "ipython3",
   "version": "3.6.8"
  }
 },
 "nbformat": 4,
 "nbformat_minor": 2
}
