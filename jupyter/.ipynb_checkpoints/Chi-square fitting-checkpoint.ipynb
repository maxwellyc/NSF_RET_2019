{
 "cells": [
  {
   "cell_type": "markdown",
   "metadata": {},
   "source": [
    "# $\\chi ^2$ Fitting"
   ]
  },
  {
   "cell_type": "markdown",
   "metadata": {},
   "source": [
    "Definition of $\\chi^2$:\n",
    "\n",
    "There are many definitions (variations) of $\\chi^2$ depending on how you'll be using it. For now, we define it as:\n",
    "\\begin{equation}\n",
    "\\chi^{2}=\\sum_{i=1}^{n} \\frac{\\left(O_{i}-E_{i}\\right)^{2}}{N}\n",
    "\\end{equation}\n",
    "\n",
    "where $O_i$ is the observation, for you this is the target value, or experimental value, and $E_i$ is the expectation value, or the theory prediction (calculated from equation). Usually you'd sum it up over all the data points you have (or all the data points after some filtering), and divide it by the total number of data points you used for normalization.\n",
    "\n",
    "In short, $\\chi^2$ represents the overall goodness of prediction (theory calculation) on a given set of data points, the smaller the $\\chi^2$, the better the theory (in general).\n",
    "\n",
    "The $\\chi^2$ fitting we'll be doing is then finding the coeficient, or a set of coeficients if you have a more complicated equation, that gives you the smallest $\\chi^2$ value.\n",
    "\n",
    "$\\chi^2$ fitting is a naive but intuitive method of finding the best coeficient (fitting), it's the least efficient method, the idea is to test every possible combination of coeficients, then by locating the minimum $\\chi^2$ you'll know which set is the best.\n",
    "\n",
    "Before starting the fit, you'll need to determine 2 things:\n",
    "\n",
    "1. Ranges of the coeficients you want to search,\n",
    "2. The step size (gap) of the potential coeficients.\n",
    "\n",
    "In the naive implementation, the range is basically a good guess of where your coeficient would lie, in the R vs $A^{1/3}$ example, the coeficient is around 1.2, so maybe you'd start a search from 0.5 to 2, rather than searching from -100000 to 100000, you can do this, but it'll waste a lot of computation and time. When you're not sure, you can always expand your search range.\n",
    "\n",
    "The step size should be determined by how precise you want your theory to be, it's the gap between the coeficients you test out, eg. [1.21, 1.22, 1.23, 1.24, ... ] has a step size of 0.01. Note that decreasing the gap between coeficients would increase the number of searches, thus increasing your computation and time. You know you've reached a good step size when as you further decrease the step size the $\\chi^2$ value doesn't seem to decrease much (reaching convergence). \n",
    "\n",
    "For eg. if you used a step size of 0.001 for the coeficient of R vs $A^{1/3}$ example, the $\\chi^2$ is 70, if you use 0.00001 (100 times smaller, thus 100 times more computation), you get a $\\chi^2$ of 68, you might say 0.001 is enough for now. Apart from determining the step size using this observation, sometimes you know your theory model is crude, and you don't need the coeficient to be that accurate, you'd also use a moderate step size. In the R vs $A^{1/3}$ example, now you know you're missing a neutron number dependence term, so no matter how precise your first coeficient is, you'll get a big deviation from the experimental radius, so maybe you don't want to spend too much computational resource on getting the BEST coeficient, when your theory model isn't even accurate in the first place.\n",
    "\n"
   ]
  },
  {
   "cell_type": "markdown",
   "metadata": {},
   "source": [
    "Fitting y = 2.7 x^2 - 5.5x + 11\n",
    "\n",
    "Generate a couple data points from this exact equation, and use them to demonstrate chi^2 fit.\n",
    "\n",
    "Plot the correponding points."
   ]
  },
  {
   "cell_type": "markdown",
   "metadata": {},
   "source": [
    "Increase search range, if you chose the wrong range and missed the actual search range etc."
   ]
  },
  {
   "cell_type": "markdown",
   "metadata": {},
   "source": [
    "Decrease step size to increase accuracy."
   ]
  },
  {
   "cell_type": "markdown",
   "metadata": {},
   "source": [
    "The improvement when increasing additional terms to the equation, no matter how precise you go with the coeficient, it won't matter if you got the \"wrong\" equation in the first place"
   ]
  },
  {
   "cell_type": "code",
   "execution_count": null,
   "metadata": {},
   "outputs": [],
   "source": []
  },
  {
   "cell_type": "code",
   "execution_count": null,
   "metadata": {},
   "outputs": [],
   "source": []
  },
  {
   "cell_type": "code",
   "execution_count": null,
   "metadata": {},
   "outputs": [],
   "source": []
  },
  {
   "cell_type": "code",
   "execution_count": null,
   "metadata": {},
   "outputs": [],
   "source": []
  },
  {
   "cell_type": "code",
   "execution_count": null,
   "metadata": {},
   "outputs": [],
   "source": []
  },
  {
   "cell_type": "code",
   "execution_count": null,
   "metadata": {},
   "outputs": [],
   "source": []
  },
  {
   "cell_type": "markdown",
   "metadata": {},
   "source": [
    "Increasing additional terms"
   ]
  },
  {
   "cell_type": "code",
   "execution_count": null,
   "metadata": {},
   "outputs": [],
   "source": []
  }
 ],
 "metadata": {
  "kernelspec": {
   "display_name": "Python 3",
   "language": "python",
   "name": "python3"
  },
  "language_info": {
   "codemirror_mode": {
    "name": "ipython",
    "version": 3
   },
   "file_extension": ".py",
   "mimetype": "text/x-python",
   "name": "python",
   "nbconvert_exporter": "python",
   "pygments_lexer": "ipython3",
   "version": "3.6.8"
  }
 },
 "nbformat": 4,
 "nbformat_minor": 2
}
